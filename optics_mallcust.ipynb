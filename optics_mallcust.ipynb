{
 "cells": [
  {
   "cell_type": "markdown",
   "metadata": {},
   "source": [
    "# OPTICS (Ordering Points to Identify the Clustering Structure) Algorithm"
   ]
  },
  {
   "cell_type": "markdown",
   "metadata": {},
   "source": [
    "## Introduction\n",
    "**Clustering** adalah salah satu metode pengelompokan data yang bersifat unsupervised learning. Tujuan utama dari metode clustering ini adalah untuk mengelompokkan data menjadi kelompok-kelompok tertentu dimana anggota dalam satu kelompok memiliki karakteristik/kemiripan yang sama dan berbeda dengan cluster yang lainnya.\n",
    "Clustering memiliki berbagai macam metode, beberapa yang banyak digunakan adalah Partitioning Clustering (K-Means dan K-Medoids), Hierarchical Clustering, dan Density Clustering.\n",
    "\n",
    "**Density Clustering** adalah metode clustering yang memanfaatkan tingkat kerapatan object untuk dilakukan pengelompokan. Salah satu algoritma density clustering yang paling terkenal adalah DBSCAN (Density-based Spatial Clustering of Application with Noise). Dimana algoritma ini memiliki dua parameter utama yang akan dijadikan input ketika melakukan proses clustering, yaitu parameter epsilon (eps) dan minimum points (minPts).\n",
    "Konsep utama dari algoritma DBSCAN adalah mengelompokkan data dengan tetangganya dalam satu/beberapa cluster, dimana dalam satu cluster harus terdapat jumlah anggota yang memenuhi nilai dari minimum points (minPts). Selain itu, jarak antara titik utama (core point) dengan anggota dalam satu cluster tidak boleh lebih dari nilai epsilonnya. Titik utama (core point) akan dipilih secara acak pada iterasi pertama.\n",
    "Dikarenakan jangkauan nilai epsilon yang konstan pada setiap clusternya, algoritma DBSCAN ini memiliki kekurangan, yaitu kesulitan untuk menjangkau titik dengan kepadatan yang berbeda-beda (*varying density*). Padahal sangat memungkinkan titik yang tidak dapat terjangkau tersebut termasuk dalam kategori *meaningful cluster*.\n",
    "\n",
    "Hal tersebut inilah yang menginisiasi terciptanya algortima OPTICS. Algoritma OPTICS dapat mengatasi kekurangan algoritma DBSCAN untuk melakukan clustering dengan tingkat kepadatan yang berbeda (*varying density*)."
   ]
  },
  {
   "cell_type": "markdown",
   "metadata": {},
   "source": [
    "## OPTICS Algorithm\n",
    "Secara umum, cara kerja algoritma OPTICS sama dengan cara kerja algoritma DBSCAN. Parameter yang dimilikipun sama yaitu parameter epsilon (eps) dan parameter minimum points (minPts). Namun, pada algoritma OPTICS ini terdapat dua terminologi baru yang sebelumnya tidak ada pada algoritma DBSCAN, yaitu *core distance* dan *reachability distance*.\n",
    "Berikut d adalah pengertian dari kedua terminologi tersebut :\n",
    "\n",
    "**Core distance** : Jarak/radius minimum dari core point p (yang di identifikasikan sebagai core point) dengan anggota *neighborhood* dalam satu cluster.\n",
    "\n",
    "**Reachability distance** : Jarak minimum titik q dari core point p di luar dari bagian core objek (memenuhi minPts)."
   ]
  },
  {
   "cell_type": "markdown",
   "metadata": {},
   "source": [
    "### Bagaimana *minPts* dan *epsilon* mengambil peran dalam pembentukan cluster?\n",
    "Sama halnya dengan DBSCAN, pada OPTICS kita dapat memanfaatkan parameter *minPts* dan *epsilon* sebagai unsur pembentukan cluster. Akan tetapi jika pada DBSCAN *epsilon* dianggap sebagai jarak konstan untuk membentuk sebuah cluster, pada OPTICS nantinya kita akan mempertimbangkan jarak antara titik-titik yang berdekatan untuk membuat reachability distance yang kemudian digunakan untuk memisahkan cluster dengan kepadatan yang bervariasi dari noise.\n",
    "\n",
    "<img src=\"assets/OPTICS_SEarch_Distance.PNG\" width='400'>\n",
    "\n",
    "Parameter *minPts* pada OPTICS digunakan untuk menentukan jumlah minimum fitur/titik yang diperlukan untuk mempertimbangkan pengelompokan titik-titik pada sebuah cluster. Misalnya jika kita memiliki sejumlah cluster berbeda dengan ukuran mulai dari 10 titik hingga 50 titik dan kita menetapkan nilai *minPts* sebanyak 20, maka untuk semua cluster yang memiliki anggota kurang dari 20 titik akan dianggap sebagai noise karena tidak membentuk pengelompokan yang cukup besar untuk dianggap sebagai cluster atau titik-titik tersebut akan digabungkan dengan cluster terdekat untuk memenuhi jumlah minimum titik yang diperlukan.\n",
    "Pada OPTICS, epsilon diperlakukan sebagai jarak maksimum yang akan dibandingkan dengan jarak inti (core distance). OPTICS menggunakan konsep jarak jangkauan maksimum, yaitu jarak dari titik ke tetangga terdekatnya yang belum pernah dikunjungi oleh pencarian (titik-titik pada boundary 2). OPTICS akan mencari semua jarak tetangga dalam jangkauan epsilon yang ditentukan, kemudian membandingkan masing-masing titik tersebut dengan core distance. Jika ada jarak yang lebih kecil dari jarak inti(semua titik yang masuk pada boundary 1), maka titik tersebut menetapkan core distance sebagai reachability distance-nya (CD=RD). Jika semua jarak lebih besar dari jarak inti(semua titik yang ada di boundary 2), maka jarak terkecil ditetapkan sebagai reachability distancenya. Jarak ini kemudian digunakan untuk membuat reachable plot, yang merupakan plot terurut dari reachability distance yang digunakan untuk mendeteksi cluster."
   ]
  },
  {
   "cell_type": "markdown",
   "metadata": {},
   "source": [
    "### Bagaimana reachability distance berperan dalam pembentukan reachable plot?\n",
    "Untuk semua titik pada dataset akan dihitung reachability distancenya karena jarak ini nantinya akan digunakan dan dipetakan pada reachability plot. Gambar di bawah ini menggambarkan ilustrasi pembentukan cluster dari reachability plot.\n",
    "\n",
    "<img src=\"assets/Reachability_Plot.PNG\" width=600>\n",
    "\n",
    "Lembah dalam reachability plot mewakili cluster yang berbeda untuk setiap pola dari titik-titik tertentu. Semakin padat sebuah cluster, semakin rendah reachability distance-nya, dan semakin rendah lembah pada plot (cluster warna pink adalah contoh cluster yang paling padat diantara cluster lainnya). Cluster yang kurang padat memiliki reachability distance yang lebih tinggi dan bentuk lembah yang lebih tinggi pada plot (contohnya pada cluster hijau tua adalah yang paling tidak padat). Selain lembah kita juga melihat puncak pada reachability plot. Puncak mewakili jarak yang diperlukan dari satu cluster ke cluster lain, atau dari cluster ke titik noise kemudian ke cluster lainnya, tergantung pada konfigurasi himpunan titik-titik pada sebuah data(urutan reachability plotnya).\n",
    "\n",
    "<img src=\"assets/ilustrasi_lembah_puncak.PNG\">\n",
    "\n",
    "Puncak dapat terjadi di reachability plot ketika epsilon kurang dari core distance terbesar. Aspek penting dalam pengelompokan OPTICS adalah menentukan cara mendeteksi cluster dari reachability plot yang dapat dilakukan dengan menggunakan parameter Sensitivitas Cluster."
   ]
  },
  {
   "cell_type": "markdown",
   "metadata": {},
   "source": [
    "### Cluster Sensitivity (OPTICS)\n",
    "\n",
    "Di dalam algoritma OPTICS terdapat parameter *sensitivity* yang dapat digunakan untuk menentukan sedikit atau banyaknya cluster yang terbentuk. Parameter tersebut adalah *low cluster sensitivity* dan *high cluster sensitivity*.\n",
    "Konsep dari *high cluster sensitivity* adalah memperlakukan setiap puncak pada urutan *reachability distance* yang terbentuk sebagai pemisah antara tiap cluster. Sehingga hal ini memungkinkan jumlah cluster yang terbentuk semakin banyak. Sedangkan *low cluster sensitivity* bersifat sebaliknya, *low sensitivity* hanya mempertimbangkan puncak yang bentuknya signifikan. Sehingga jumlah cluster yang terbentuk akan lebih sedikit jika dibandingkan dengan *high sensitivity*.\n",
    "\n",
    "Agar memudahkan dalam memahami *cluster sensitivity* berikut di bawah ini adalah ilustrasinya :\n",
    "\n",
    "<img src=\"assets/sensitivity.JPG\" width='700'>\n"
   ]
  },
  {
   "cell_type": "markdown",
   "metadata": {},
   "source": [
    "### Membandingkan method DBSCAN dengan OPTICS\n",
    "\n",
    "Sebelumnya, sudah dijelaskan bahwa perbedaan mendasar antara DBSCAN dan OPTICS terletak pada terminologi *reachability distance* dan *core distance* nya. Dimana dengan adanya *reachability distance* yang terurut, OPTICS dapat mengatasi kelemahan DBSCAN saat menjangkau titik yang berpotensi sebagai *meaningful cluster*. Berikut di bawah ini, dijelaskan perbandingan konsep keduanya dalam bentuk ilustrasi gambar.\n",
    "\n",
    "#### 1. DBSCAN\n",
    "<img src=\"assets/dbscan.JPG\" width='450'>\n",
    "\n",
    "Kekurangan dari algoritma DBSCAN adalah menjadikan nilai epsilonnya sebagai parameter *cut off* atau *threshold*, sehingga apabila diperhatikan pada gambar diatas, nilai diatas batas *cut off* akan diidentifikasi sebagai *noise*. Padahal sangat memungkinkan *noise* tersebut sebenarnya adalah *meaningful cluster*.\n",
    "\n",
    "#### 2. OPTICS\n",
    "<img src=\"assets/optics.JPG\" width='450'>\n",
    "\n",
    "Berbeda dengan DBSCAN, dikarenakan OPTICS menerapkan konsep *reachability distance* dan tidak mempertimbangkan nilai *epsilon* maka algoritma ini mampu menjangkau object-object yang berpotensi untuk dikategorikan sebagai cluster. Apabila diperhatikan pada ilustrasi diatas, noise yang dianggap oleh DBSCAN akan dianggap sebagai cluster baru pada algoritma ini. "
   ]
  },
  {
   "cell_type": "markdown",
   "metadata": {},
   "source": [
    "### Contoh Implementasi OPTICS pada Python"
   ]
  },
  {
   "cell_type": "code",
   "execution_count": 1,
   "metadata": {},
   "outputs": [],
   "source": [
    "import numpy as np \n",
    "import pandas as pd \n",
    "import matplotlib.pyplot as plt \n",
    "from matplotlib import gridspec \n",
    "from sklearn.cluster import OPTICS, cluster_optics_dbscan \n",
    "from sklearn.preprocessing import normalize, StandardScaler "
   ]
  },
  {
   "cell_type": "code",
   "execution_count": 2,
   "metadata": {},
   "outputs": [
    {
     "data": {
      "text/html": [
       "<div>\n",
       "<style scoped>\n",
       "    .dataframe tbody tr th:only-of-type {\n",
       "        vertical-align: middle;\n",
       "    }\n",
       "\n",
       "    .dataframe tbody tr th {\n",
       "        vertical-align: top;\n",
       "    }\n",
       "\n",
       "    .dataframe thead th {\n",
       "        text-align: right;\n",
       "    }\n",
       "</style>\n",
       "<table border=\"1\" class=\"dataframe\">\n",
       "  <thead>\n",
       "    <tr style=\"text-align: right;\">\n",
       "      <th></th>\n",
       "      <th>Age</th>\n",
       "      <th>Annual Income (k$)</th>\n",
       "      <th>Spending Score (1-100)</th>\n",
       "    </tr>\n",
       "  </thead>\n",
       "  <tbody>\n",
       "    <tr>\n",
       "      <th>0</th>\n",
       "      <td>19</td>\n",
       "      <td>15</td>\n",
       "      <td>39</td>\n",
       "    </tr>\n",
       "    <tr>\n",
       "      <th>1</th>\n",
       "      <td>21</td>\n",
       "      <td>15</td>\n",
       "      <td>81</td>\n",
       "    </tr>\n",
       "    <tr>\n",
       "      <th>2</th>\n",
       "      <td>20</td>\n",
       "      <td>16</td>\n",
       "      <td>6</td>\n",
       "    </tr>\n",
       "    <tr>\n",
       "      <th>3</th>\n",
       "      <td>23</td>\n",
       "      <td>16</td>\n",
       "      <td>77</td>\n",
       "    </tr>\n",
       "    <tr>\n",
       "      <th>4</th>\n",
       "      <td>31</td>\n",
       "      <td>17</td>\n",
       "      <td>40</td>\n",
       "    </tr>\n",
       "  </tbody>\n",
       "</table>\n",
       "</div>"
      ],
      "text/plain": [
       "   Age  Annual Income (k$)  Spending Score (1-100)\n",
       "0   19                  15                      39\n",
       "1   21                  15                      81\n",
       "2   20                  16                       6\n",
       "3   23                  16                      77\n",
       "4   31                  17                      40"
      ]
     },
     "execution_count": 2,
     "metadata": {},
     "output_type": "execute_result"
    }
   ],
   "source": [
    "data = pd.read_csv('data_input/Mall_Customers.csv') \n",
    "\n",
    "drop_features = ['CustomerID', 'Gender'] \n",
    "data = data.drop(drop_features, axis = 1) \n",
    "\n",
    "data.fillna(method ='ffill', inplace = True) \n",
    "\n",
    "data.head()\n"
   ]
  },
  {
   "cell_type": "code",
   "execution_count": 3,
   "metadata": {
    "scrolled": true
   },
   "outputs": [
    {
     "data": {
      "text/html": [
       "<div>\n",
       "<style scoped>\n",
       "    .dataframe tbody tr th:only-of-type {\n",
       "        vertical-align: middle;\n",
       "    }\n",
       "\n",
       "    .dataframe tbody tr th {\n",
       "        vertical-align: top;\n",
       "    }\n",
       "\n",
       "    .dataframe thead th {\n",
       "        text-align: right;\n",
       "    }\n",
       "</style>\n",
       "<table border=\"1\" class=\"dataframe\">\n",
       "  <thead>\n",
       "    <tr style=\"text-align: right;\">\n",
       "      <th></th>\n",
       "      <th>Age</th>\n",
       "      <th>Annual Income (k$)</th>\n",
       "      <th>Spending Score (1-100)</th>\n",
       "    </tr>\n",
       "  </thead>\n",
       "  <tbody>\n",
       "    <tr>\n",
       "      <th>0</th>\n",
       "      <td>-0.622173</td>\n",
       "      <td>-0.759499</td>\n",
       "      <td>-0.189897</td>\n",
       "    </tr>\n",
       "    <tr>\n",
       "      <th>1</th>\n",
       "      <td>-0.518894</td>\n",
       "      <td>-0.704396</td>\n",
       "      <td>0.484330</td>\n",
       "    </tr>\n",
       "    <tr>\n",
       "      <th>2</th>\n",
       "      <td>-0.488556</td>\n",
       "      <td>-0.614244</td>\n",
       "      <td>-0.619691</td>\n",
       "    </tr>\n",
       "    <tr>\n",
       "      <th>3</th>\n",
       "      <td>-0.495541</td>\n",
       "      <td>-0.740949</td>\n",
       "      <td>0.453247</td>\n",
       "    </tr>\n",
       "    <tr>\n",
       "      <th>4</th>\n",
       "      <td>-0.313049</td>\n",
       "      <td>-0.923896</td>\n",
       "      <td>-0.220036</td>\n",
       "    </tr>\n",
       "  </tbody>\n",
       "</table>\n",
       "</div>"
      ],
      "text/plain": [
       "        Age  Annual Income (k$)  Spending Score (1-100)\n",
       "0 -0.622173           -0.759499               -0.189897\n",
       "1 -0.518894           -0.704396                0.484330\n",
       "2 -0.488556           -0.614244               -0.619691\n",
       "3 -0.495541           -0.740949                0.453247\n",
       "4 -0.313049           -0.923896               -0.220036"
      ]
     },
     "execution_count": 3,
     "metadata": {},
     "output_type": "execute_result"
    }
   ],
   "source": [
    "# Melakukan proses scaling untuk standarisasi nilai \n",
    "scaler = StandardScaler() \n",
    "X_scaled = scaler.fit_transform(data) \n",
    "\n",
    "# Melakukan normalisasi untuk membuat normal distribusi\n",
    "X_normalized = normalize(X_scaled) \n",
    "\n",
    "# Converting numpy ke dalam data frame\n",
    "X_normalized = pd.DataFrame(X_normalized) \n",
    "\n",
    "# Melakukan rename kolom\n",
    "X_normalized.columns = data.columns \n",
    "\n",
    "X_normalized.head() \n"
   ]
  },
  {
   "cell_type": "code",
   "execution_count": 4,
   "metadata": {},
   "outputs": [
    {
     "data": {
      "text/plain": [
       "OPTICS(min_samples=10)"
      ]
     },
     "execution_count": 4,
     "metadata": {},
     "output_type": "execute_result"
    }
   ],
   "source": [
    "#min sample = minPts\n",
    "#xi\n",
    "optics_model = OPTICS(min_samples = 10, xi = 0.05) \n",
    "\n",
    "optics_model.fit(X_normalized) "
   ]
  },
  {
   "cell_type": "code",
   "execution_count": 5,
   "metadata": {
    "scrolled": true
   },
   "outputs": [
    {
     "name": "stdout",
     "output_type": "stream",
     "text": [
      "[-1 -1 -1  0  0  0  0  0  0  0  0  0  0  0  0  0  0  0  0  0  0  0  0  0\n",
      "  0  0  0  0  0  0  0  0 -1 -1 -1 -1  1  1  1  1  1  1  1  1  1  1  1  1\n",
      "  1  1  1  1  1 -1 -1 -1 -1 -1 -1 -1 -1 -1 -1 -1 -1 -1 -1  2  2  2  2  2\n",
      "  2  2  2  2  2  2  2 -1 -1 -1 -1 -1 -1 -1 -1 -1 -1 -1 -1 -1 -1 -1 -1 -1\n",
      " -1  3  3  3  3  3  3  3  3  3  3  3  3  3 -1 -1 -1 -1 -1  4  4  4  4  4\n",
      "  4  4  4  4  4  4  4  4  4  4  4  4  4  4  4  4  4  4  4  4  4  4  4  4\n",
      "  4 -1 -1 -1 -1 -1 -1 -1 -1 -1 -1 -1 -1 -1 -1 -1  5  5  5  5  5  5  5  5\n",
      "  5  5  5  5  5  5  5  5  5  5  5  5  5  5  5  5  5  5  5  5  5  5  5  5\n",
      "  5  5  5  5  5  5  5  5]\n"
     ]
    }
   ],
   "source": [
    "# Producing the labels according to the DBSCAN technique with eps = 0.5 \n",
    "labels1 = cluster_optics_dbscan(reachability = optics_model.reachability_, \n",
    "    core_distances = optics_model.core_distances_, \n",
    "    ordering = optics_model.ordering_, eps = 0.5) \n",
    "\n",
    "# Producing the labels according to the DBSCAN technique with eps = 0.25 \n",
    "labels2 = cluster_optics_dbscan(reachability = optics_model.reachability_, \n",
    "    core_distances = optics_model.core_distances_, \n",
    "    ordering = optics_model.ordering_, eps = 0.25) \n",
    "\n",
    "# Creating a numpy array with numbers at equal spaces till \n",
    "# the specified range \n",
    "space = np.arange(len(X_normalized)) \n",
    "\n",
    "# Storing the reachability distance of each point \n",
    "reachability = optics_model.reachability_[optics_model.ordering_] \n",
    "\n",
    "# Storing the cluster labels of each point \n",
    "labels = optics_model.labels_[optics_model.ordering_] \n",
    "\n",
    "print(labels)\n",
    "\n"
   ]
  },
  {
   "cell_type": "code",
   "execution_count": 6,
   "metadata": {},
   "outputs": [
    {
     "name": "stdout",
     "output_type": "stream",
     "text": [
      "[0 0 0 0 0 0 0 0 0 0 0 0 0 0 0 0 0 0 0 0 0 0 0 0 0 0 0 0 0 0 0 0 0 0 0 0 0\n",
      " 0 0 0 0 0 0 0 0 0 0 0 0 0 0 0 0 0 0 0 0 0 0 0 0 0 0 0 0 0 0 0 0 0 0 0 0 0\n",
      " 0 0 0 0 0 0 0 0 0 0 0 0 0 0 0 0 0 0 0 0 0 0 0 0 0 0 0 0 0 0 0 0 0 0 0 0 0\n",
      " 0 0 0 0 0 0 0 0 0 0 0 1 1 0 1 0 1 0 1 0 1 0 1 0 1 0 1 0 1 0 1 0 1 0 1 0 1\n",
      " 0 1 0 1 0 1 0 1 0 1 0 1 0 1 0 1 0 1 0 1 0 1 0 1 0 1 0 1 0 1 0 1 0 1 0 1 0\n",
      " 1 0 1 0 1 0 1 0 1 0 1 0 1 0 1]\n"
     ]
    }
   ],
   "source": [
    "print(labels1)"
   ]
  },
  {
   "cell_type": "code",
   "execution_count": 7,
   "metadata": {},
   "outputs": [
    {
     "name": "stdout",
     "output_type": "stream",
     "text": [
      "[-1  0 -1  0 -1  0 -1  0 -1  0 -1 -1  2  0 -1  0 -1  0  2 -1 -1  0 -1  0\n",
      "  2  0 -1  0 -1  0  2  0  2  0  2  0 -1  0 -1  0 -1  0  2  0  2  0 -1 -1\n",
      " -1 -1 -1  0  0  3 -1  2 -1  3 -1 -1  3 -1  3  3  3 -1 -1  3 -1 -1  3  2\n",
      "  3  3  3 -1 -1 -1  1 -1  3  0  3 -1  1  3  3  1 -1  3  3  1  3 -1 -1  1\n",
      "  3  1 -1  1  1  3  3  1  3  1  3  3  3  3  3  1 -1  1  1  1  3 -1  3 -1\n",
      " -1 -1 -1  4 -1  4 -1  4 -1  4 -1  4 -1  4 -1  4 -1  4 -1  4 -1  4 -1  4\n",
      " -1  4 -1  4 -1  4 -1  4 -1  4 -1  4 -1  4 -1  4 -1  4 -1  4 -1  4 -1  4\n",
      " -1 -1 -1  4 -1  4 -1  4 -1 -1 -1  4 -1  4 -1  4 -1  4 -1 -1 -1  4 -1 -1\n",
      " -1  4 -1 -1 -1 -1 -1 -1]\n"
     ]
    }
   ],
   "source": [
    "print(labels2)"
   ]
  },
  {
   "cell_type": "code",
   "execution_count": 9,
   "metadata": {
    "scrolled": false
   },
   "outputs": [
    {
     "data": {
      "image/png": "[encoded data removed]",
      "text/plain": [
       "<Figure size 1080x720 with 4 Axes>"
      ]
     },
     "metadata": {
      "needs_background": "light"
     },
     "output_type": "display_data"
    }
   ],
   "source": [
    "# Defining the framework of the visualization \n",
    "plt.figure(figsize =(15, 10)) \n",
    "G = gridspec.GridSpec(2, 3) \n",
    "ax1 = plt.subplot(G[0, :]) \n",
    "ax2 = plt.subplot(G[1, 0]) \n",
    "ax3 = plt.subplot(G[1, 1]) \n",
    "ax4 = plt.subplot(G[1, 2]) \n",
    "\n",
    "# Plotting the Reachability-Distance Plot \n",
    "colors = ['c.', 'b.', 'r.', 'y.', 'g.'] \n",
    "for Class, colour in zip(range(0, 5), colors): \n",
    "    Xk = space[labels == Class] \n",
    "    Rk = reachability[labels == Class] \n",
    "    ax1.plot(Xk, Rk, colour, alpha = 0.3) \n",
    "ax1.plot(space[labels == -1], reachability[labels == -1], 'k.', alpha = 0.3) \n",
    "ax1.plot(space, np.full_like(space, 2., dtype = float), 'k-', alpha = 0.5) \n",
    "ax1.plot(space, np.full_like(space, 0.5, dtype = float), 'k-.', alpha = 0.5) \n",
    "ax1.set_ylabel('Reachability Distance') \n",
    "ax1.set_title('Reachability Plot') \n",
    "\n",
    "# Plotting the OPTICS Clustering \n",
    "colors = ['c.', 'b.', 'r.', 'y.', 'g.'] \n",
    "for Class, colour in zip(range(0, 5), colors): \n",
    "    Xk = X_normalized[optics_model.labels_ == Class] \n",
    "    ax2.plot(Xk.iloc[:, 1], Xk.iloc[:, 2], colour, alpha = 0.3) \n",
    "\n",
    "ax2.plot(X_normalized.iloc[optics_model.labels_ == -1, 0], \n",
    "        X_normalized.iloc[optics_model.labels_ == -1, 1], \n",
    "    'k+', alpha = 0.1) \n",
    "ax2.set_title('OPTICS Clustering') \n",
    "\n",
    "# Plotting the DBSCAN Clustering with eps = 0.5 \n",
    "colors = ['c.', 'b.', 'r.', 'y.', 'g.'] \n",
    "for Class, colour in zip(range(0, 6), colors): \n",
    "    Xk = X_normalized[labels1 == Class] \n",
    "    ax3.plot(Xk.iloc[:, 1], Xk.iloc[:, 2], colour, alpha = 0.3, marker ='.') \n",
    "\n",
    "ax3.plot(X_normalized.iloc[labels1 == -1, 0], \n",
    "        X_normalized.iloc[labels1 == -1, 1], \n",
    "    'k+', alpha = 0.1) \n",
    "ax3.set_title('DBSCAN clustering with eps = 0.5') \n",
    "\n",
    "# Plotting the DBSCAN Clustering with eps = 2.0 \n",
    "colors = ['c.', 'y.', 'm.', 'g.'] \n",
    "for Class, colour in zip(range(0, 4), colors): \n",
    "    Xk = X_normalized.iloc[labels2 == Class] \n",
    "    ax4.plot(Xk.iloc[:, 1], Xk.iloc[:, 2], colour, alpha = 0.3) \n",
    "\n",
    "ax4.plot(X_normalized.iloc[labels2 == -1, 0], \n",
    "        X_normalized.iloc[labels2 == -1, 1], \n",
    "    'k+', alpha = 0.1) \n",
    "ax4.set_title('DBSCAN Clustering with eps = 0.25') \n",
    "\n",
    "\n",
    "plt.tight_layout() \n",
    "plt.show() \n"
   ]
  },
  {
   "cell_type": "markdown",
   "metadata": {},
   "source": [
    "Insight:\n",
    "- Custering OPTICS menghasilkan 5 cluster dengan beberapa outlier. Clustering DBSCAN menggunakan epsilon 0.5 menghasilkan 2 cluster tanpa adanya outlier. Clustering DBSCAN dengan menggunakan epsilon 0.25 menghasilkan 4 cluster dengan beberapa outlier.\n",
    "- Pada OPTICS, kelompok atau cluster amatan yang memiliki annual income tinggi dan spending score rendah dapat menjadi perhatian pihak Mall karena kelompok orang ini bisa menjadi customer yang berpotensi menghasilkan revenue tinggi di masa depan(profitable)\n",
    "- Pada OPTICS, kelompok cluster dengan annual income cenderung rendah dan nilai spending score rendah dapat menjadi sasaran pasar untuk meningkatkan revenue dengan memberikan banyak promosi."
   ]
  },
  {
   "cell_type": "markdown",
   "metadata": {},
   "source": [
    "# Kesimpulan\n",
    "\n",
    "1. Algoritma OPTICS dapat mengatasi kelemahan algortima DBSCAN di bagian variying densitynya\n",
    "2. Kompleksitas OPTICS lebih besar daripada algoritma DBSCAN"
   ]
  }
 ],
 "metadata": {
  "kernelspec": {
   "display_name": "algoritma",
   "language": "python",
   "name": "algoritma"
  },
  "language_info": {
   "codemirror_mode": {
    "name": "ipython",
    "version": 3
   },
   "file_extension": ".py",
   "mimetype": "text/x-python",
   "name": "python",
   "nbconvert_exporter": "python",
   "pygments_lexer": "ipython3",
   "version": "3.8.3"
  },
  "toc": {
   "base_numbering": 1,
   "nav_menu": {},
   "number_sections": true,
   "sideBar": true,
   "skip_h1_title": false,
   "title_cell": "Table of Contents",
   "title_sidebar": "Contents",
   "toc_cell": false,
   "toc_position": {},
   "toc_section_display": true,
   "toc_window_display": true
  }
 },
 "nbformat": 4,
 "nbformat_minor": 4
}
